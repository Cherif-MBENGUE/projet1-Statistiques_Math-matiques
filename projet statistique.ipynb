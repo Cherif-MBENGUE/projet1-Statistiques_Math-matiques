{
 "cells": [
  {
   "cell_type": "code",
   "execution_count": 29,
   "metadata": {},
   "outputs": [],
   "source": [
    "import numpy as np\n",
    "import pandas as pd\n",
    "import matplotlib.pyplot as plt"
   ]
  },
  {
   "cell_type": "markdown",
   "metadata": {},
   "source": [
    "# Question 1"
   ]
  },
  {
   "cell_type": "code",
   "execution_count": 30,
   "metadata": {},
   "outputs": [
    {
     "data": {
      "text/html": [
       "<div>\n",
       "<style scoped>\n",
       "    .dataframe tbody tr th:only-of-type {\n",
       "        vertical-align: middle;\n",
       "    }\n",
       "\n",
       "    .dataframe tbody tr th {\n",
       "        vertical-align: top;\n",
       "    }\n",
       "\n",
       "    .dataframe thead th {\n",
       "        text-align: right;\n",
       "    }\n",
       "</style>\n",
       "<table border=\"1\" class=\"dataframe\">\n",
       "  <thead>\n",
       "    <tr style=\"text-align: right;\">\n",
       "      <th></th>\n",
       "      <th>date</th>\n",
       "      <th>tests</th>\n",
       "      <th>cas</th>\n",
       "      <th>contact</th>\n",
       "      <th>importe</th>\n",
       "      <th>communautaire</th>\n",
       "    </tr>\n",
       "  </thead>\n",
       "  <tbody>\n",
       "    <tr>\n",
       "      <th>0</th>\n",
       "      <td>02/03/2020</td>\n",
       "      <td>1.0</td>\n",
       "      <td>1</td>\n",
       "      <td>0</td>\n",
       "      <td>0</td>\n",
       "      <td>0</td>\n",
       "    </tr>\n",
       "    <tr>\n",
       "      <th>1</th>\n",
       "      <td>03/03/2020</td>\n",
       "      <td>2.0</td>\n",
       "      <td>1</td>\n",
       "      <td>0</td>\n",
       "      <td>1</td>\n",
       "      <td>0</td>\n",
       "    </tr>\n",
       "    <tr>\n",
       "      <th>2</th>\n",
       "      <td>04/03/2020</td>\n",
       "      <td>2.0</td>\n",
       "      <td>2</td>\n",
       "      <td>1</td>\n",
       "      <td>1</td>\n",
       "      <td>0</td>\n",
       "    </tr>\n",
       "    <tr>\n",
       "      <th>3</th>\n",
       "      <td>05/03/2020</td>\n",
       "      <td>NaN</td>\n",
       "      <td>0</td>\n",
       "      <td>0</td>\n",
       "      <td>0</td>\n",
       "      <td>0</td>\n",
       "    </tr>\n",
       "    <tr>\n",
       "      <th>4</th>\n",
       "      <td>06/03/2020</td>\n",
       "      <td>2.0</td>\n",
       "      <td>0</td>\n",
       "      <td>0</td>\n",
       "      <td>0</td>\n",
       "      <td>0</td>\n",
       "    </tr>\n",
       "    <tr>\n",
       "      <th>...</th>\n",
       "      <td>...</td>\n",
       "      <td>...</td>\n",
       "      <td>...</td>\n",
       "      <td>...</td>\n",
       "      <td>...</td>\n",
       "      <td>...</td>\n",
       "    </tr>\n",
       "    <tr>\n",
       "      <th>491</th>\n",
       "      <td>07/07/2021</td>\n",
       "      <td>2388.0</td>\n",
       "      <td>356</td>\n",
       "      <td>127</td>\n",
       "      <td>0</td>\n",
       "      <td>229</td>\n",
       "    </tr>\n",
       "    <tr>\n",
       "      <th>492</th>\n",
       "      <td>08/07/2021</td>\n",
       "      <td>2166.0</td>\n",
       "      <td>354</td>\n",
       "      <td>135</td>\n",
       "      <td>1</td>\n",
       "      <td>218</td>\n",
       "    </tr>\n",
       "    <tr>\n",
       "      <th>493</th>\n",
       "      <td>09/07/2021</td>\n",
       "      <td>2104.0</td>\n",
       "      <td>476</td>\n",
       "      <td>215</td>\n",
       "      <td>0</td>\n",
       "      <td>261</td>\n",
       "    </tr>\n",
       "    <tr>\n",
       "      <th>494</th>\n",
       "      <td>10/07/2021</td>\n",
       "      <td>2762.0</td>\n",
       "      <td>380</td>\n",
       "      <td>136</td>\n",
       "      <td>0</td>\n",
       "      <td>234</td>\n",
       "    </tr>\n",
       "    <tr>\n",
       "      <th>495</th>\n",
       "      <td>11/07/2021</td>\n",
       "      <td>2715.0</td>\n",
       "      <td>529</td>\n",
       "      <td>188</td>\n",
       "      <td>0</td>\n",
       "      <td>341</td>\n",
       "    </tr>\n",
       "  </tbody>\n",
       "</table>\n",
       "<p>496 rows × 6 columns</p>\n",
       "</div>"
      ],
      "text/plain": [
       "           date   tests  cas  contact  importe  communautaire\n",
       "0    02/03/2020     1.0    1        0        0              0\n",
       "1    03/03/2020     2.0    1        0        1              0\n",
       "2    04/03/2020     2.0    2        1        1              0\n",
       "3    05/03/2020     NaN    0        0        0              0\n",
       "4    06/03/2020     2.0    0        0        0              0\n",
       "..          ...     ...  ...      ...      ...            ...\n",
       "491  07/07/2021  2388.0  356      127        0            229\n",
       "492  08/07/2021  2166.0  354      135        1            218\n",
       "493  09/07/2021  2104.0  476      215        0            261\n",
       "494  10/07/2021  2762.0  380      136        0            234\n",
       "495  11/07/2021  2715.0  529      188        0            341\n",
       "\n",
       "[496 rows x 6 columns]"
      ]
     },
     "execution_count": 30,
     "metadata": {},
     "output_type": "execute_result"
    }
   ],
   "source": [
    "#data =pd.read_csv(r\"C:\\Users\\Cherif_Mbengue\\Desktop\\covid-senegal.csv\",sep=\";\")\n",
    "data =pd.read_csv(\"covid-senegal.csv\",sep=\";\")\n",
    "data"
   ]
  },
  {
   "cell_type": "code",
   "execution_count": 31,
   "metadata": {},
   "outputs": [
    {
     "data": {
      "text/plain": [
       "date             0\n",
       "tests            1\n",
       "cas              0\n",
       "contact          0\n",
       "importe          0\n",
       "communautaire    0\n",
       "dtype: int64"
      ]
     },
     "execution_count": 31,
     "metadata": {},
     "output_type": "execute_result"
    }
   ],
   "source": [
    "data.isnull().sum()"
   ]
  },
  {
   "cell_type": "code",
   "execution_count": 32,
   "metadata": {},
   "outputs": [
    {
     "data": {
      "text/plain": [
       "date              object\n",
       "tests            float64\n",
       "cas                int64\n",
       "contact            int64\n",
       "importe            int64\n",
       "communautaire      int64\n",
       "dtype: object"
      ]
     },
     "execution_count": 32,
     "metadata": {},
     "output_type": "execute_result"
    }
   ],
   "source": [
    "data.dtypes\n",
    "# Avant la converssion de la colonne \"date\", il est de type 'object' "
   ]
  },
  {
   "cell_type": "code",
   "execution_count": 33,
   "metadata": {},
   "outputs": [
    {
     "data": {
      "text/plain": [
       "date             datetime64[ns]\n",
       "tests                   float64\n",
       "cas                       int64\n",
       "contact                   int64\n",
       "importe                   int64\n",
       "communautaire             int64\n",
       "dtype: object"
      ]
     },
     "execution_count": 33,
     "metadata": {},
     "output_type": "execute_result"
    }
   ],
   "source": [
    "data['date'] =  pd.to_datetime(data['date'], format='%d/%m/%Y')\n",
    "data.dtypes\n",
    "# Aprés transformation, la colonne \"date\" est maintenant de type \"datetime\""
   ]
  },
  {
   "cell_type": "code",
   "execution_count": 34,
   "metadata": {},
   "outputs": [
    {
     "data": {
      "text/html": [
       "<div>\n",
       "<style scoped>\n",
       "    .dataframe tbody tr th:only-of-type {\n",
       "        vertical-align: middle;\n",
       "    }\n",
       "\n",
       "    .dataframe tbody tr th {\n",
       "        vertical-align: top;\n",
       "    }\n",
       "\n",
       "    .dataframe thead th {\n",
       "        text-align: right;\n",
       "    }\n",
       "</style>\n",
       "<table border=\"1\" class=\"dataframe\">\n",
       "  <thead>\n",
       "    <tr style=\"text-align: right;\">\n",
       "      <th></th>\n",
       "      <th>date</th>\n",
       "      <th>tests</th>\n",
       "      <th>cas</th>\n",
       "      <th>contact</th>\n",
       "      <th>importe</th>\n",
       "      <th>communautaire</th>\n",
       "    </tr>\n",
       "  </thead>\n",
       "  <tbody>\n",
       "    <tr>\n",
       "      <th>0</th>\n",
       "      <td>2020-03-02</td>\n",
       "      <td>1.0</td>\n",
       "      <td>1</td>\n",
       "      <td>0</td>\n",
       "      <td>0</td>\n",
       "      <td>0</td>\n",
       "    </tr>\n",
       "    <tr>\n",
       "      <th>1</th>\n",
       "      <td>2020-03-03</td>\n",
       "      <td>2.0</td>\n",
       "      <td>1</td>\n",
       "      <td>0</td>\n",
       "      <td>1</td>\n",
       "      <td>0</td>\n",
       "    </tr>\n",
       "    <tr>\n",
       "      <th>2</th>\n",
       "      <td>2020-03-04</td>\n",
       "      <td>2.0</td>\n",
       "      <td>2</td>\n",
       "      <td>1</td>\n",
       "      <td>1</td>\n",
       "      <td>0</td>\n",
       "    </tr>\n",
       "    <tr>\n",
       "      <th>4</th>\n",
       "      <td>2020-03-06</td>\n",
       "      <td>2.0</td>\n",
       "      <td>0</td>\n",
       "      <td>0</td>\n",
       "      <td>0</td>\n",
       "      <td>0</td>\n",
       "    </tr>\n",
       "    <tr>\n",
       "      <th>5</th>\n",
       "      <td>2020-03-07</td>\n",
       "      <td>2.0</td>\n",
       "      <td>0</td>\n",
       "      <td>0</td>\n",
       "      <td>0</td>\n",
       "      <td>0</td>\n",
       "    </tr>\n",
       "    <tr>\n",
       "      <th>...</th>\n",
       "      <td>...</td>\n",
       "      <td>...</td>\n",
       "      <td>...</td>\n",
       "      <td>...</td>\n",
       "      <td>...</td>\n",
       "      <td>...</td>\n",
       "    </tr>\n",
       "    <tr>\n",
       "      <th>491</th>\n",
       "      <td>2021-07-07</td>\n",
       "      <td>2388.0</td>\n",
       "      <td>356</td>\n",
       "      <td>127</td>\n",
       "      <td>0</td>\n",
       "      <td>229</td>\n",
       "    </tr>\n",
       "    <tr>\n",
       "      <th>492</th>\n",
       "      <td>2021-07-08</td>\n",
       "      <td>2166.0</td>\n",
       "      <td>354</td>\n",
       "      <td>135</td>\n",
       "      <td>1</td>\n",
       "      <td>218</td>\n",
       "    </tr>\n",
       "    <tr>\n",
       "      <th>493</th>\n",
       "      <td>2021-07-09</td>\n",
       "      <td>2104.0</td>\n",
       "      <td>476</td>\n",
       "      <td>215</td>\n",
       "      <td>0</td>\n",
       "      <td>261</td>\n",
       "    </tr>\n",
       "    <tr>\n",
       "      <th>494</th>\n",
       "      <td>2021-07-10</td>\n",
       "      <td>2762.0</td>\n",
       "      <td>380</td>\n",
       "      <td>136</td>\n",
       "      <td>0</td>\n",
       "      <td>234</td>\n",
       "    </tr>\n",
       "    <tr>\n",
       "      <th>495</th>\n",
       "      <td>2021-07-11</td>\n",
       "      <td>2715.0</td>\n",
       "      <td>529</td>\n",
       "      <td>188</td>\n",
       "      <td>0</td>\n",
       "      <td>341</td>\n",
       "    </tr>\n",
       "  </tbody>\n",
       "</table>\n",
       "<p>495 rows × 6 columns</p>\n",
       "</div>"
      ],
      "text/plain": [
       "          date   tests  cas  contact  importe  communautaire\n",
       "0   2020-03-02     1.0    1        0        0              0\n",
       "1   2020-03-03     2.0    1        0        1              0\n",
       "2   2020-03-04     2.0    2        1        1              0\n",
       "4   2020-03-06     2.0    0        0        0              0\n",
       "5   2020-03-07     2.0    0        0        0              0\n",
       "..         ...     ...  ...      ...      ...            ...\n",
       "491 2021-07-07  2388.0  356      127        0            229\n",
       "492 2021-07-08  2166.0  354      135        1            218\n",
       "493 2021-07-09  2104.0  476      215        0            261\n",
       "494 2021-07-10  2762.0  380      136        0            234\n",
       "495 2021-07-11  2715.0  529      188        0            341\n",
       "\n",
       "[495 rows x 6 columns]"
      ]
     },
     "execution_count": 34,
     "metadata": {},
     "output_type": "execute_result"
    }
   ],
   "source": [
    "### Suppréssion des lignes contenants une valeur manquantes\n",
    "data=data.dropna() ### Dans notre base, il n'existe pas de valeur manquante donc la base reste intact. Tu peux s'amuser à creer une\n",
    "data              ### valeur manquante et à excécuter la fonction pour voir. La ligne avec valeurs manquantes va se supprimer"
   ]
  },
  {
   "cell_type": "code",
   "execution_count": 35,
   "metadata": {},
   "outputs": [
    {
     "data": {
      "text/plain": [
       "date             0\n",
       "tests            0\n",
       "cas              0\n",
       "contact          0\n",
       "importe          0\n",
       "communautaire    0\n",
       "dtype: int64"
      ]
     },
     "execution_count": 35,
     "metadata": {},
     "output_type": "execute_result"
    }
   ],
   "source": [
    "data.isnull().sum()"
   ]
  },
  {
   "cell_type": "markdown",
   "metadata": {},
   "source": [
    "# QUESTION 2"
   ]
  },
  {
   "cell_type": "code",
   "execution_count": 36,
   "metadata": {},
   "outputs": [
    {
     "data": {
      "text/html": [
       "<div>\n",
       "<style scoped>\n",
       "    .dataframe tbody tr th:only-of-type {\n",
       "        vertical-align: middle;\n",
       "    }\n",
       "\n",
       "    .dataframe tbody tr th {\n",
       "        vertical-align: top;\n",
       "    }\n",
       "\n",
       "    .dataframe thead th {\n",
       "        text-align: right;\n",
       "    }\n",
       "</style>\n",
       "<table border=\"1\" class=\"dataframe\">\n",
       "  <thead>\n",
       "    <tr style=\"text-align: right;\">\n",
       "      <th></th>\n",
       "      <th>date</th>\n",
       "      <th>tests</th>\n",
       "      <th>cas</th>\n",
       "      <th>contact</th>\n",
       "      <th>importe</th>\n",
       "      <th>communautaire</th>\n",
       "      <th>proportion</th>\n",
       "    </tr>\n",
       "  </thead>\n",
       "  <tbody>\n",
       "    <tr>\n",
       "      <th>0</th>\n",
       "      <td>2020-03-02</td>\n",
       "      <td>1.0</td>\n",
       "      <td>1</td>\n",
       "      <td>0</td>\n",
       "      <td>0</td>\n",
       "      <td>0</td>\n",
       "      <td>100.000000</td>\n",
       "    </tr>\n",
       "    <tr>\n",
       "      <th>1</th>\n",
       "      <td>2020-03-03</td>\n",
       "      <td>2.0</td>\n",
       "      <td>1</td>\n",
       "      <td>0</td>\n",
       "      <td>1</td>\n",
       "      <td>0</td>\n",
       "      <td>50.000000</td>\n",
       "    </tr>\n",
       "    <tr>\n",
       "      <th>2</th>\n",
       "      <td>2020-03-04</td>\n",
       "      <td>2.0</td>\n",
       "      <td>2</td>\n",
       "      <td>1</td>\n",
       "      <td>1</td>\n",
       "      <td>0</td>\n",
       "      <td>100.000000</td>\n",
       "    </tr>\n",
       "    <tr>\n",
       "      <th>4</th>\n",
       "      <td>2020-03-06</td>\n",
       "      <td>2.0</td>\n",
       "      <td>0</td>\n",
       "      <td>0</td>\n",
       "      <td>0</td>\n",
       "      <td>0</td>\n",
       "      <td>0.000000</td>\n",
       "    </tr>\n",
       "    <tr>\n",
       "      <th>5</th>\n",
       "      <td>2020-03-07</td>\n",
       "      <td>2.0</td>\n",
       "      <td>0</td>\n",
       "      <td>0</td>\n",
       "      <td>0</td>\n",
       "      <td>0</td>\n",
       "      <td>0.000000</td>\n",
       "    </tr>\n",
       "    <tr>\n",
       "      <th>...</th>\n",
       "      <td>...</td>\n",
       "      <td>...</td>\n",
       "      <td>...</td>\n",
       "      <td>...</td>\n",
       "      <td>...</td>\n",
       "      <td>...</td>\n",
       "      <td>...</td>\n",
       "    </tr>\n",
       "    <tr>\n",
       "      <th>491</th>\n",
       "      <td>2021-07-07</td>\n",
       "      <td>2388.0</td>\n",
       "      <td>356</td>\n",
       "      <td>127</td>\n",
       "      <td>0</td>\n",
       "      <td>229</td>\n",
       "      <td>14.907873</td>\n",
       "    </tr>\n",
       "    <tr>\n",
       "      <th>492</th>\n",
       "      <td>2021-07-08</td>\n",
       "      <td>2166.0</td>\n",
       "      <td>354</td>\n",
       "      <td>135</td>\n",
       "      <td>1</td>\n",
       "      <td>218</td>\n",
       "      <td>16.343490</td>\n",
       "    </tr>\n",
       "    <tr>\n",
       "      <th>493</th>\n",
       "      <td>2021-07-09</td>\n",
       "      <td>2104.0</td>\n",
       "      <td>476</td>\n",
       "      <td>215</td>\n",
       "      <td>0</td>\n",
       "      <td>261</td>\n",
       "      <td>22.623574</td>\n",
       "    </tr>\n",
       "    <tr>\n",
       "      <th>494</th>\n",
       "      <td>2021-07-10</td>\n",
       "      <td>2762.0</td>\n",
       "      <td>380</td>\n",
       "      <td>136</td>\n",
       "      <td>0</td>\n",
       "      <td>234</td>\n",
       "      <td>13.758146</td>\n",
       "    </tr>\n",
       "    <tr>\n",
       "      <th>495</th>\n",
       "      <td>2021-07-11</td>\n",
       "      <td>2715.0</td>\n",
       "      <td>529</td>\n",
       "      <td>188</td>\n",
       "      <td>0</td>\n",
       "      <td>341</td>\n",
       "      <td>19.484346</td>\n",
       "    </tr>\n",
       "  </tbody>\n",
       "</table>\n",
       "<p>495 rows × 7 columns</p>\n",
       "</div>"
      ],
      "text/plain": [
       "          date   tests  cas  contact  importe  communautaire  proportion\n",
       "0   2020-03-02     1.0    1        0        0              0  100.000000\n",
       "1   2020-03-03     2.0    1        0        1              0   50.000000\n",
       "2   2020-03-04     2.0    2        1        1              0  100.000000\n",
       "4   2020-03-06     2.0    0        0        0              0    0.000000\n",
       "5   2020-03-07     2.0    0        0        0              0    0.000000\n",
       "..         ...     ...  ...      ...      ...            ...         ...\n",
       "491 2021-07-07  2388.0  356      127        0            229   14.907873\n",
       "492 2021-07-08  2166.0  354      135        1            218   16.343490\n",
       "493 2021-07-09  2104.0  476      215        0            261   22.623574\n",
       "494 2021-07-10  2762.0  380      136        0            234   13.758146\n",
       "495 2021-07-11  2715.0  529      188        0            341   19.484346\n",
       "\n",
       "[495 rows x 7 columns]"
      ]
     },
     "execution_count": 36,
     "metadata": {},
     "output_type": "execute_result"
    }
   ],
   "source": [
    "proportion=(data['cas']/data['tests'])*100\n",
    "data=pd.concat([data,proportion],axis=1, ignore_index=False)\n",
    "data.columns=['date', 'tests', 'cas', 'contact', 'importe', 'communautaire', 'proportion']\n",
    "data"
   ]
  },
  {
   "cell_type": "markdown",
   "metadata": {},
   "source": [
    "# QUESTION 3"
   ]
  },
  {
   "cell_type": "code",
   "execution_count": 37,
   "metadata": {},
   "outputs": [],
   "source": [
    "#data[\"prop\"]=(data['cas']/data['tests'])*100\n",
    "#data"
   ]
  },
  {
   "cell_type": "code",
   "execution_count": 38,
   "metadata": {},
   "outputs": [
    {
     "data": {
      "text/html": [
       "<div>\n",
       "<style scoped>\n",
       "    .dataframe tbody tr th:only-of-type {\n",
       "        vertical-align: middle;\n",
       "    }\n",
       "\n",
       "    .dataframe tbody tr th {\n",
       "        vertical-align: top;\n",
       "    }\n",
       "\n",
       "    .dataframe thead th {\n",
       "        text-align: right;\n",
       "    }\n",
       "</style>\n",
       "<table border=\"1\" class=\"dataframe\">\n",
       "  <thead>\n",
       "    <tr style=\"text-align: right;\">\n",
       "      <th></th>\n",
       "      <th>date</th>\n",
       "      <th>tests</th>\n",
       "      <th>cas</th>\n",
       "      <th>contact</th>\n",
       "      <th>importe</th>\n",
       "      <th>communautaire</th>\n",
       "      <th>proportion</th>\n",
       "      <th>total</th>\n",
       "    </tr>\n",
       "  </thead>\n",
       "  <tbody>\n",
       "    <tr>\n",
       "      <th>0</th>\n",
       "      <td>2020-03-02</td>\n",
       "      <td>1.0</td>\n",
       "      <td>1</td>\n",
       "      <td>0</td>\n",
       "      <td>0</td>\n",
       "      <td>0</td>\n",
       "      <td>100.000000</td>\n",
       "      <td>1</td>\n",
       "    </tr>\n",
       "    <tr>\n",
       "      <th>1</th>\n",
       "      <td>2020-03-03</td>\n",
       "      <td>2.0</td>\n",
       "      <td>1</td>\n",
       "      <td>0</td>\n",
       "      <td>1</td>\n",
       "      <td>0</td>\n",
       "      <td>50.000000</td>\n",
       "      <td>2</td>\n",
       "    </tr>\n",
       "    <tr>\n",
       "      <th>2</th>\n",
       "      <td>2020-03-04</td>\n",
       "      <td>2.0</td>\n",
       "      <td>2</td>\n",
       "      <td>1</td>\n",
       "      <td>1</td>\n",
       "      <td>0</td>\n",
       "      <td>100.000000</td>\n",
       "      <td>4</td>\n",
       "    </tr>\n",
       "    <tr>\n",
       "      <th>4</th>\n",
       "      <td>2020-03-06</td>\n",
       "      <td>2.0</td>\n",
       "      <td>0</td>\n",
       "      <td>0</td>\n",
       "      <td>0</td>\n",
       "      <td>0</td>\n",
       "      <td>0.000000</td>\n",
       "      <td>4</td>\n",
       "    </tr>\n",
       "    <tr>\n",
       "      <th>5</th>\n",
       "      <td>2020-03-07</td>\n",
       "      <td>2.0</td>\n",
       "      <td>0</td>\n",
       "      <td>0</td>\n",
       "      <td>0</td>\n",
       "      <td>0</td>\n",
       "      <td>0.000000</td>\n",
       "      <td>4</td>\n",
       "    </tr>\n",
       "    <tr>\n",
       "      <th>...</th>\n",
       "      <td>...</td>\n",
       "      <td>...</td>\n",
       "      <td>...</td>\n",
       "      <td>...</td>\n",
       "      <td>...</td>\n",
       "      <td>...</td>\n",
       "      <td>...</td>\n",
       "      <td>...</td>\n",
       "    </tr>\n",
       "    <tr>\n",
       "      <th>491</th>\n",
       "      <td>2021-07-07</td>\n",
       "      <td>2388.0</td>\n",
       "      <td>356</td>\n",
       "      <td>127</td>\n",
       "      <td>0</td>\n",
       "      <td>229</td>\n",
       "      <td>14.907873</td>\n",
       "      <td>46489</td>\n",
       "    </tr>\n",
       "    <tr>\n",
       "      <th>492</th>\n",
       "      <td>2021-07-08</td>\n",
       "      <td>2166.0</td>\n",
       "      <td>354</td>\n",
       "      <td>135</td>\n",
       "      <td>1</td>\n",
       "      <td>218</td>\n",
       "      <td>16.343490</td>\n",
       "      <td>46843</td>\n",
       "    </tr>\n",
       "    <tr>\n",
       "      <th>493</th>\n",
       "      <td>2021-07-09</td>\n",
       "      <td>2104.0</td>\n",
       "      <td>476</td>\n",
       "      <td>215</td>\n",
       "      <td>0</td>\n",
       "      <td>261</td>\n",
       "      <td>22.623574</td>\n",
       "      <td>47319</td>\n",
       "    </tr>\n",
       "    <tr>\n",
       "      <th>494</th>\n",
       "      <td>2021-07-10</td>\n",
       "      <td>2762.0</td>\n",
       "      <td>380</td>\n",
       "      <td>136</td>\n",
       "      <td>0</td>\n",
       "      <td>234</td>\n",
       "      <td>13.758146</td>\n",
       "      <td>47699</td>\n",
       "    </tr>\n",
       "    <tr>\n",
       "      <th>495</th>\n",
       "      <td>2021-07-11</td>\n",
       "      <td>2715.0</td>\n",
       "      <td>529</td>\n",
       "      <td>188</td>\n",
       "      <td>0</td>\n",
       "      <td>341</td>\n",
       "      <td>19.484346</td>\n",
       "      <td>48228</td>\n",
       "    </tr>\n",
       "  </tbody>\n",
       "</table>\n",
       "<p>495 rows × 8 columns</p>\n",
       "</div>"
      ],
      "text/plain": [
       "          date   tests  cas  contact  importe  communautaire  proportion  \\\n",
       "0   2020-03-02     1.0    1        0        0              0  100.000000   \n",
       "1   2020-03-03     2.0    1        0        1              0   50.000000   \n",
       "2   2020-03-04     2.0    2        1        1              0  100.000000   \n",
       "4   2020-03-06     2.0    0        0        0              0    0.000000   \n",
       "5   2020-03-07     2.0    0        0        0              0    0.000000   \n",
       "..         ...     ...  ...      ...      ...            ...         ...   \n",
       "491 2021-07-07  2388.0  356      127        0            229   14.907873   \n",
       "492 2021-07-08  2166.0  354      135        1            218   16.343490   \n",
       "493 2021-07-09  2104.0  476      215        0            261   22.623574   \n",
       "494 2021-07-10  2762.0  380      136        0            234   13.758146   \n",
       "495 2021-07-11  2715.0  529      188        0            341   19.484346   \n",
       "\n",
       "     total  \n",
       "0        1  \n",
       "1        2  \n",
       "2        4  \n",
       "4        4  \n",
       "5        4  \n",
       "..     ...  \n",
       "491  46489  \n",
       "492  46843  \n",
       "493  47319  \n",
       "494  47699  \n",
       "495  48228  \n",
       "\n",
       "[495 rows x 8 columns]"
      ]
     },
     "execution_count": 38,
     "metadata": {},
     "output_type": "execute_result"
    }
   ],
   "source": [
    "data[\"total\"]=data[\"cas\"].cumsum()\n",
    "data"
   ]
  },
  {
   "cell_type": "markdown",
   "metadata": {},
   "source": [
    "# QUESTION 4"
   ]
  },
  {
   "cell_type": "code",
   "execution_count": 39,
   "metadata": {},
   "outputs": [
    {
     "data": {
      "image/png": "[encoded data removed]",
      "text/plain": [
       "<Figure size 864x576 with 1 Axes>"
      ]
     },
     "metadata": {
      "needs_background": "light"
     },
     "output_type": "display_data"
    }
   ],
   "source": [
    "plt.figure(figsize=(12, 8))\n",
    "plt.plot(data[\"date\"], data[\"cas\"])\n",
    "plt.plot(data[\"date\"], data[\"tests\"])\n",
    "plt.title(\"Représentation des variables tests et cas en fonction de la date\")\n",
    "plt.xlabel(\"date\")\n",
    "plt.ylabel(\"tests/cas\")\n",
    "plt.legend(\"tests/cas\")\n",
    "plt.show()"
   ]
  },
  {
   "cell_type": "markdown",
   "metadata": {},
   "source": [
    "# QUESTION 5"
   ]
  },
  {
   "cell_type": "code",
   "execution_count": 40,
   "metadata": {
    "scrolled": true
   },
   "outputs": [
    {
     "data": {
      "image/png": "[encoded data removed]",
      "text/plain": [
       "<Figure size 864x576 with 1 Axes>"
      ]
     },
     "metadata": {
      "needs_background": "light"
     },
     "output_type": "display_data"
    }
   ],
   "source": [
    "plt.figure(figsize=(12, 8))\n",
    "plt.plot(data[\"date\"], data[\"communautaire\"])\n",
    "plt.plot(data[\"date\"], data[\"contact\"])\n",
    "plt.title(\"Représentation des variables communautaire et contact en fonction de la date\")\n",
    "plt.xlabel(\"date\")\n",
    "plt.ylabel(\"communautaire/contact\")\n",
    "plt.legend(\"communautaire/contact\")\n",
    "plt.show()"
   ]
  },
  {
   "cell_type": "markdown",
   "metadata": {},
   "source": [
    "# QUESTION 6"
   ]
  },
  {
   "cell_type": "code",
   "execution_count": 41,
   "metadata": {},
   "outputs": [
    {
     "data": {
      "text/plain": [
       "{'whiskers': [<matplotlib.lines.Line2D at 0x1ba9aa533d0>,\n",
       "  <matplotlib.lines.Line2D at 0x1ba9aa53730>],\n",
       " 'caps': [<matplotlib.lines.Line2D at 0x1ba9aa53a90>,\n",
       "  <matplotlib.lines.Line2D at 0x1ba9aa53df0>],\n",
       " 'boxes': [<matplotlib.lines.Line2D at 0x1ba9aa53040>],\n",
       " 'medians': [<matplotlib.lines.Line2D at 0x1ba9ad1e190>],\n",
       " 'fliers': [<matplotlib.lines.Line2D at 0x1ba9ad1e4f0>],\n",
       " 'means': []}"
      ]
     },
     "execution_count": 41,
     "metadata": {},
     "output_type": "execute_result"
    },
    {
     "data": {
      "image/png": "[encoded data removed]",
      "text/plain": [
       "<Figure size 432x288 with 1 Axes>"
      ]
     },
     "metadata": {
      "needs_background": "light"
     },
     "output_type": "display_data"
    }
   ],
   "source": [
    "plt.boxplot(data[\"cas\"]) "
   ]
  },
  {
   "cell_type": "code",
   "execution_count": 42,
   "metadata": {},
   "outputs": [],
   "source": [
    "#A travers cette représentation, on constate qu'il y a des valeurs aberrantes sur cette variable."
   ]
  },
  {
   "cell_type": "code",
   "execution_count": 43,
   "metadata": {},
   "outputs": [
    {
     "data": {
      "text/plain": [
       "(array([192., 126.,  87.,  41.,  12.,  21.,   8.,   5.,   2.,   1.]),\n",
       " array([  0. ,  52.9, 105.8, 158.7, 211.6, 264.5, 317.4, 370.3, 423.2,\n",
       "        476.1, 529. ]),\n",
       " <BarContainer object of 10 artists>)"
      ]
     },
     "execution_count": 43,
     "metadata": {},
     "output_type": "execute_result"
    },
    {
     "data": {
      "image/png": "[encoded data removed]",
      "text/plain": [
       "<Figure size 432x288 with 1 Axes>"
      ]
     },
     "metadata": {
      "needs_background": "light"
     },
     "output_type": "display_data"
    }
   ],
   "source": [
    "plt.hist(data[\"cas\"]) "
   ]
  },
  {
   "cell_type": "markdown",
   "metadata": {},
   "source": [
    "# QUESTION 7"
   ]
  },
  {
   "cell_type": "code",
   "execution_count": 44,
   "metadata": {},
   "outputs": [
    {
     "data": {
      "text/html": [
       "<div>\n",
       "<style scoped>\n",
       "    .dataframe tbody tr th:only-of-type {\n",
       "        vertical-align: middle;\n",
       "    }\n",
       "\n",
       "    .dataframe tbody tr th {\n",
       "        vertical-align: top;\n",
       "    }\n",
       "\n",
       "    .dataframe thead th {\n",
       "        text-align: right;\n",
       "    }\n",
       "</style>\n",
       "<table border=\"1\" class=\"dataframe\">\n",
       "  <thead>\n",
       "    <tr style=\"text-align: right;\">\n",
       "      <th></th>\n",
       "      <th>date</th>\n",
       "      <th>tests</th>\n",
       "      <th>cas</th>\n",
       "      <th>contact</th>\n",
       "      <th>importe</th>\n",
       "      <th>communautaire</th>\n",
       "      <th>proportion</th>\n",
       "      <th>total</th>\n",
       "      <th>cas_classe</th>\n",
       "    </tr>\n",
       "  </thead>\n",
       "  <tbody>\n",
       "    <tr>\n",
       "      <th>0</th>\n",
       "      <td>2020-03-02</td>\n",
       "      <td>1.0</td>\n",
       "      <td>1</td>\n",
       "      <td>0</td>\n",
       "      <td>0</td>\n",
       "      <td>0</td>\n",
       "      <td>100.0</td>\n",
       "      <td>1</td>\n",
       "      <td>A</td>\n",
       "    </tr>\n",
       "    <tr>\n",
       "      <th>1</th>\n",
       "      <td>2020-03-03</td>\n",
       "      <td>2.0</td>\n",
       "      <td>1</td>\n",
       "      <td>0</td>\n",
       "      <td>1</td>\n",
       "      <td>0</td>\n",
       "      <td>50.0</td>\n",
       "      <td>2</td>\n",
       "      <td>A</td>\n",
       "    </tr>\n",
       "    <tr>\n",
       "      <th>2</th>\n",
       "      <td>2020-03-04</td>\n",
       "      <td>2.0</td>\n",
       "      <td>2</td>\n",
       "      <td>1</td>\n",
       "      <td>1</td>\n",
       "      <td>0</td>\n",
       "      <td>100.0</td>\n",
       "      <td>4</td>\n",
       "      <td>A</td>\n",
       "    </tr>\n",
       "    <tr>\n",
       "      <th>4</th>\n",
       "      <td>2020-03-06</td>\n",
       "      <td>2.0</td>\n",
       "      <td>0</td>\n",
       "      <td>0</td>\n",
       "      <td>0</td>\n",
       "      <td>0</td>\n",
       "      <td>0.0</td>\n",
       "      <td>4</td>\n",
       "      <td>A</td>\n",
       "    </tr>\n",
       "    <tr>\n",
       "      <th>5</th>\n",
       "      <td>2020-03-07</td>\n",
       "      <td>2.0</td>\n",
       "      <td>0</td>\n",
       "      <td>0</td>\n",
       "      <td>0</td>\n",
       "      <td>0</td>\n",
       "      <td>0.0</td>\n",
       "      <td>4</td>\n",
       "      <td>A</td>\n",
       "    </tr>\n",
       "  </tbody>\n",
       "</table>\n",
       "</div>"
      ],
      "text/plain": [
       "        date  tests  cas  contact  importe  communautaire  proportion  total  \\\n",
       "0 2020-03-02    1.0    1        0        0              0       100.0      1   \n",
       "1 2020-03-03    2.0    1        0        1              0        50.0      2   \n",
       "2 2020-03-04    2.0    2        1        1              0       100.0      4   \n",
       "4 2020-03-06    2.0    0        0        0              0         0.0      4   \n",
       "5 2020-03-07    2.0    0        0        0              0         0.0      4   \n",
       "\n",
       "  cas_classe  \n",
       "0          A  \n",
       "1          A  \n",
       "2          A  \n",
       "4          A  \n",
       "5          A  "
      ]
     },
     "execution_count": 44,
     "metadata": {},
     "output_type": "execute_result"
    }
   ],
   "source": [
    "def discrediter(x):\n",
    "    if x>=np.min(data.cas) and x<np.quantile(data.cas, 0.25):\n",
    "        return \"A\"\n",
    "    elif x>=np.quantile(data.cas, 0.25) and x<np.quantile(data.cas, 0.5):\n",
    "        return \"B\"\n",
    "    elif x>=np.quantile(data.cas, 0.5) and x<np.quantile(data.cas, 0.75):\n",
    "        return \"C\"\n",
    "    else:\n",
    "        return \"D\"\n",
    "    \n",
    "data[\"cas_classe\"]=data[\"cas\"].apply(discrediter)\n",
    "data[\"cas_classe\"]=data[\"cas_classe\"].astype('category')\n",
    "data.head()"
   ]
  },
  {
   "cell_type": "code",
   "execution_count": 45,
   "metadata": {},
   "outputs": [
    {
     "data": {
      "text/plain": [
       "(495, 9)"
      ]
     },
     "execution_count": 45,
     "metadata": {},
     "output_type": "execute_result"
    }
   ],
   "source": [
    "data.dtypes\n",
    "data.shape"
   ]
  },
  {
   "cell_type": "markdown",
   "metadata": {},
   "source": [
    "# QUESTION 8"
   ]
  },
  {
   "cell_type": "code",
   "execution_count": 46,
   "metadata": {},
   "outputs": [
    {
     "data": {
      "text/plain": [
       "B    125\n",
       "D    124\n",
       "C    124\n",
       "A    122\n",
       "Name: cas_classe, dtype: int64"
      ]
     },
     "execution_count": 46,
     "metadata": {},
     "output_type": "execute_result"
    }
   ],
   "source": [
    "data[\"cas_classe\"].value_counts()"
   ]
  },
  {
   "cell_type": "markdown",
   "metadata": {},
   "source": [
    "# QUESTION 9"
   ]
  },
  {
   "cell_type": "code",
   "execution_count": 47,
   "metadata": {},
   "outputs": [],
   "source": [
    "#On suppose que la variables cas suit une loi binomiale négative N B(θ, p), θ > 0 et < 0 < p < 1.\n",
    "#Calculer les estimations de θ et p en utilisant la méthode des moments."
   ]
  },
  {
   "cell_type": "code",
   "execution_count": 48,
   "metadata": {},
   "outputs": [],
   "source": [
    "#La variable cas suit une loi binomiale negative N B(θ, p), alors son esperance et sa variance s'ecrivent sous la forme suivante:\n",
    "#E[\"cas\"]=θq/p\n",
    "#var[\"cas\"]=θq/p²\n",
    "# Selon la methode des moments on egalise l'esperance theorique a l'esperance empirique c'est a dire θq/p = x_barre\n",
    "# apres avoir tirer, on a: p_chapeau= x_barre/ var[x] et θ_chapeau = p_chapeau*x_barre/(1-p_chapeau)"
   ]
  },
  {
   "cell_type": "code",
   "execution_count": 49,
   "metadata": {},
   "outputs": [
    {
     "data": {
      "text/plain": [
       "97.43030303030304"
      ]
     },
     "execution_count": 49,
     "metadata": {},
     "output_type": "execute_result"
    }
   ],
   "source": [
    "x_barre=data[\"cas\"].mean()\n",
    "x_barre"
   ]
  },
  {
   "cell_type": "code",
   "execution_count": 50,
   "metadata": {},
   "outputs": [
    {
     "data": {
      "text/plain": [
       "7877.6707397865275"
      ]
     },
     "execution_count": 50,
     "metadata": {},
     "output_type": "execute_result"
    }
   ],
   "source": [
    "var_x=data[\"cas\"].var()\n",
    "var_x"
   ]
  },
  {
   "cell_type": "code",
   "execution_count": 51,
   "metadata": {},
   "outputs": [
    {
     "data": {
      "text/plain": [
       "0.012367907500655867"
      ]
     },
     "execution_count": 51,
     "metadata": {},
     "output_type": "execute_result"
    }
   ],
   "source": [
    "p_chapeau = x_barre/var_x\n",
    "p_chapeau"
   ]
  },
  {
   "cell_type": "code",
   "execution_count": 52,
   "metadata": {},
   "outputs": [
    {
     "data": {
      "text/plain": [
       "1.2200990478045437"
      ]
     },
     "execution_count": 52,
     "metadata": {},
     "output_type": "execute_result"
    }
   ],
   "source": [
    "teta_chapeau = p_chapeau*x_barre/(1-p_chapeau)\n",
    "teta_chapeau"
   ]
  },
  {
   "cell_type": "code",
   "execution_count": 53,
   "metadata": {},
   "outputs": [
    {
     "data": {
      "text/plain": [
       "1.2200990478045437"
      ]
     },
     "execution_count": 53,
     "metadata": {},
     "output_type": "execute_result"
    }
   ],
   "source": [
    "teta_chapeau=(x_barre*x_barre)/(var_x-x_barre)\n",
    "teta_chapeau"
   ]
  },
  {
   "cell_type": "markdown",
   "metadata": {},
   "source": [
    "# QUESTION 10"
   ]
  },
  {
   "cell_type": "code",
   "execution_count": 54,
   "metadata": {},
   "outputs": [],
   "source": [
    "#On suppose que la variables cas suit une loi binomiale négative N B(θ, p), θ > 0 et < 0 < p < 1.\n",
    "#Calculer les estimations de θ et p en utilisant la méthode du maximum de vraissemblance."
   ]
  },
  {
   "cell_type": "code",
   "execution_count": 55,
   "metadata": {},
   "outputs": [],
   "source": [
    "#La variable cas suit une loi binomiale negative N B(θ, p), alors son esperance et sa variance s'ecrivent sous la forme suivante:\n",
    "#E[\"cas\"]=θq/p\n",
    "#var[\"cas\"]=θq/p²\n",
    "# La methode du maximum de vraisemblance est solution du systeme ∂L(x,θ)/∂θ=0 et ∂²L(x,θ)/∂θ²<0\n",
    "# ∂logL(x,θ)/∂θ=0 et ∂²logL(x,θ)/∂θ²<0\n",
    "#f(x)=C-n,x(p)^x(p-1)^x\n",
    "#l=somme[logC-n,x + nlogp + θlog(p-1)]\n",
    "#∂L/∂p = n/p + θ/(p-1)\n",
    "#∂L/∂p = 0, ce qui implique que n/p = -θ/(p-1)\n",
    "# Apres manipulation on a : p_chapeau = n/(n + θ)"
   ]
  },
  {
   "cell_type": "code",
   "execution_count": 62,
   "metadata": {},
   "outputs": [],
   "source": [
    "#def maximum_vs (data, iter_max=1000):\n",
    "    #data = pd.dataFrame(data)\n",
    "    #mu0 = data.mean()\n",
    "    #c0 = data.cov()\n",
    "    \n",
    "    #for j in range(iter_max):\n",
    "        #w = []\n",
    "        \n",
    "        #for i in data :\n",
    "            #wk = (5  + len(data)/(5+np.dot(np.dot(np.transpose(i-mu0), np.linalg.inv(c0)), (i - mu0)))\n",
    "            #w.append(wk)\n",
    "            #w = np.array(w)\n",
    "            \n",
    "            #mu = (np.dot((w, data))/(np.sum(w)))\n",
    "            \n",
    "            #c=0\n",
    "            #for i in range(len(data)):\n",
    "                #c+=w[i] * np.dot((data[i]-mu0), (np.transpose(data[i] - mu0)))\n",
    "                #cov = c/len(data)\n",
    "                \n",
    "                #mu0 = mu\n",
    "                #c0 = cov\n",
    "    #return mu0,c0"
   ]
  },
  {
   "cell_type": "code",
   "execution_count": 57,
   "metadata": {},
   "outputs": [
    {
     "data": {
      "text/plain": [
       "97.43030303030304"
      ]
     },
     "execution_count": 57,
     "metadata": {},
     "output_type": "execute_result"
    }
   ],
   "source": [
    "x_barre=data[\"cas\"].mean()\n",
    "x_barre"
   ]
  },
  {
   "cell_type": "code",
   "execution_count": 58,
   "metadata": {},
   "outputs": [
    {
     "data": {
      "text/plain": [
       "1.2200990478045437"
      ]
     },
     "execution_count": 58,
     "metadata": {},
     "output_type": "execute_result"
    }
   ],
   "source": [
    "teta_chapeau = p_chapeau*x_barre/(1-p_chapeau)\n",
    "teta_chapeau"
   ]
  },
  {
   "cell_type": "code",
   "execution_count": 61,
   "metadata": {},
   "outputs": [
    {
     "data": {
      "text/plain": [
       "0.9975412139690718"
      ]
     },
     "execution_count": 61,
     "metadata": {},
     "output_type": "execute_result"
    }
   ],
   "source": [
    "n = 495 \n",
    "p_chapeau = n/(n + teta_chapeau)\n",
    "p_chapeau"
   ]
  }
 ],
 "metadata": {
  "kernelspec": {
   "display_name": "Python 3",
   "language": "python",
   "name": "python3"
  },
  "language_info": {
   "codemirror_mode": {
    "name": "ipython",
    "version": 3
   },
   "file_extension": ".py",
   "mimetype": "text/x-python",
   "name": "python",
   "nbconvert_exporter": "python",
   "pygments_lexer": "ipython3",
   "version": "3.8.5"
  }
 },
 "nbformat": 4,
 "nbformat_minor": 2
}
